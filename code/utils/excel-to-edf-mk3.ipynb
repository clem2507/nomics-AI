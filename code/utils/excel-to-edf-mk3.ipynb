{
 "cells": [
  {
   "cell_type": "code",
   "execution_count": 1,
   "id": "3057bc13",
   "metadata": {},
   "outputs": [],
   "source": [
    "import os\n",
    "import re\n",
    "import mne\n",
    "import math\n",
    "import pyedflib\n",
    "import numpy as np\n",
    "import pandas as pd\n",
    "\n",
    "from datetime import datetime, timezone, timedelta\n",
    "from pyedflib import highlevel, FILETYPE_BDF, FILETYPE_BDFPLUS, FILETYPE_EDF, FILETYPE_EDFPLUS"
   ]
  },
  {
   "cell_type": "code",
   "execution_count": 2,
   "id": "e07148d9",
   "metadata": {},
   "outputs": [],
   "source": [
    "def excel_to_edf(df, i):\n",
    "    if not os.path.exists(f'../../data/awake_sleep/jawrhin/analysis/{i}'):\n",
    "        os.mkdir(f'../../data/awake_sleep/jawrhin/analysis/{i}')\n",
    "    jawac = [df.Jawac.to_numpy()]\n",
    "    meas_date = df.Temps[0].to_pydatetime().replace(tzinfo=timezone.utc)\n",
    "    channel_info = [{'label': 'Jawac', \n",
    "                     'dimension': 'mm', \n",
    "                     'sample_rate': 10,\n",
    "                     'physical_min': math.floor(np.min(df.Jawac.to_numpy())), \n",
    "                     'physical_max': math.ceil(np.max(df.Jawac.to_numpy())),\n",
    "                     'digital_min': -32768,\n",
    "                     'digital_max': 32767,  \n",
    "                     'transducer': '', \n",
    "                     'prefilter': ''}]\n",
    "    try:\n",
    "        f = pyedflib.EdfWriter(f'../../data/awake_sleep/jawrhin/analysis/{i}/{i}.edf', n_channels=1)\n",
    "        f.setSignalHeaders(channel_info)\n",
    "        f.setStartdatetime(meas_date)\n",
    "        f.writeSamples(jawac)\n",
    "    except Exception as e:\n",
    "        raise e\n",
    "    finally:\n",
    "        f.close()"
   ]
  },
  {
   "cell_type": "code",
   "execution_count": 3,
   "id": "68f6efd5",
   "metadata": {},
   "outputs": [],
   "source": [
    "def excel_to_mk3(df, i):\n",
    "    if not os.path.exists(f'../../data/awake_sleep/jawrhin/analysis/{i}'):\n",
    "        os.mkdir(f'../../data/awake_sleep/jawrhin/analysis/{i}')\n",
    "    mk3_file = open(f'../../data/awake_sleep/jawrhin/analysis/{i}/{i}.mk3','w+')\n",
    "    mk3_file.writelines(['MK_FILE_REV_0\\n', 'ANJAW_REV=\\n', 'IsReportUpToDate=No\\n', 'Comment=\\n', '-\\n'])\n",
    "    saved_label = df.Phase[0]\n",
    "    saved_time = df.Temps[0]\n",
    "    out_line = []\n",
    "    for k, v in df.iterrows():\n",
    "        if v.Phase != saved_label:\n",
    "            if saved_label == 'Eveil':\n",
    "                out_line.append(str(saved_time).split(' ')[1] + ':000')\n",
    "                out_line.append(re.sub(r'(\\d{1,2})-(\\d{1,2})-(\\d{1,2})', '\\\\3-\\\\2-\\\\1', str(saved_time)[2:].split(' ')[0]).replace('-', '.'))\n",
    "                out_line.append(str(v.Temps).split(' ')[1] + ':000')\n",
    "                out_line.append(re.sub(r'(\\d{1,2})-(\\d{1,2})-(\\d{1,2})', '\\\\3-\\\\2-\\\\1', str(v.Temps)[2:].split(' ')[0]).replace('-', '.'))\n",
    "                out_line.append('ApiosUser')\n",
    "                out_line.append('W')\n",
    "                mk3_file.write(';'.join(out_line)+'\\n')\n",
    "                out_line = []\n",
    "            saved_label = v.Phase\n",
    "            saved_time = v.Temps"
   ]
  },
  {
   "cell_type": "code",
   "execution_count": 4,
   "id": "780a256a",
   "metadata": {},
   "outputs": [
    {
     "name": "stdout",
     "output_type": "stream",
     "text": [
      "--- TASK START ---\n",
      "--> 1 done\n",
      "--> 2 done\n",
      "--> 3 done\n",
      "--> 4 done\n",
      "--> 5 done\n",
      "--> 6 done\n",
      "--> 7 done\n",
      "--> 8 done\n",
      "--> 9 done\n",
      "--> 10 done\n",
      "--> 11 done\n",
      "--> 12 done\n",
      "--> 13 done\n",
      "--> 14 done\n",
      "--> 15 done\n",
      "--> 16 done\n",
      "--> 17 done\n",
      "--> 18 done\n",
      "--> 19 done\n",
      "--> 20 done\n",
      "--- TASK DONE ---\n"
     ]
    }
   ],
   "source": [
    "print('--- TASK START ---')\n",
    "for i in range(20):\n",
    "    df = pd.read_excel('../../data/awake_sleep/jawrhin/data.xlsx', sheet_name = i)\n",
    "    excel_to_edf(df, i+1)\n",
    "    excel_to_mk3(df, i+1)\n",
    "    print(f'--> {i+1} done')\n",
    "print('--- TASK DONE ---')"
   ]
  }
 ],
 "metadata": {
  "interpreter": {
   "hash": "2f0b79e16eca0ef9c7c7916897ae7ea72cdb1154deec44bcb258e74841c81d28"
  },
  "kernelspec": {
   "display_name": "Python 3 (ipykernel)",
   "language": "python",
   "name": "python3"
  },
  "language_info": {
   "codemirror_mode": {
    "name": "ipython",
    "version": 3
   },
   "file_extension": ".py",
   "mimetype": "text/x-python",
   "name": "python",
   "nbconvert_exporter": "python",
   "pygments_lexer": "ipython3",
   "version": "3.9.10"
  }
 },
 "nbformat": 4,
 "nbformat_minor": 5
}
